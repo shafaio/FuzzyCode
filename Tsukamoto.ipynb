{
 "cells": [
  {
   "cell_type": "code",
   "execution_count": 2,
   "metadata": {},
   "outputs": [],
   "source": [
    "import pandas as pd\n",
    "import numpy as np"
   ]
  },
  {
   "cell_type": "code",
   "execution_count": 3,
   "metadata": {},
   "outputs": [],
   "source": [
    "rules = pd.read_csv(\"./dataset.csv\")\n",
    "dataset = pd.read_csv(\"./datasetharga.csv\")"
   ]
  },
  {
   "cell_type": "code",
   "execution_count": 4,
   "metadata": {},
   "outputs": [
    {
     "data": {
      "text/plain": [
       "['tahun motor', 'harga beli', 'kondisi', 'harga jual']"
      ]
     },
     "execution_count": 4,
     "metadata": {},
     "output_type": "execute_result"
    }
   ],
   "source": [
    "variabelDataset = dataset.columns.tolist()\n",
    "# variabelDataset.remove(\"harga jual\")\n",
    "variabelDataset"
   ]
  },
  {
   "cell_type": "code",
   "execution_count": 5,
   "metadata": {},
   "outputs": [],
   "source": [
    "maxValueVariable = dataset.max().to_frame().T\n",
    "minValueVariable = dataset.min().to_frame().T\n",
    "# mean = (dataset.min() + (dataset.max() - dataset.min()) / 2).to_frame().T\n",
    "# mean"
   ]
  },
  {
   "cell_type": "code",
   "execution_count": 6,
   "metadata": {},
   "outputs": [
    {
     "data": {
      "text/html": [
       "<div>\n",
       "<style scoped>\n",
       "    .dataframe tbody tr th:only-of-type {\n",
       "        vertical-align: middle;\n",
       "    }\n",
       "\n",
       "    .dataframe tbody tr th {\n",
       "        vertical-align: top;\n",
       "    }\n",
       "\n",
       "    .dataframe thead th {\n",
       "        text-align: right;\n",
       "    }\n",
       "</style>\n",
       "<table border=\"1\" class=\"dataframe\">\n",
       "  <thead>\n",
       "    <tr style=\"text-align: right;\">\n",
       "      <th></th>\n",
       "      <th>tahun motor</th>\n",
       "      <th>harga beli</th>\n",
       "      <th>kondisi</th>\n",
       "      <th>harga jual</th>\n",
       "    </tr>\n",
       "  </thead>\n",
       "  <tbody>\n",
       "    <tr>\n",
       "      <th>0</th>\n",
       "      <td>2014</td>\n",
       "      <td>12225000</td>\n",
       "      <td>89.5</td>\n",
       "      <td>13275000</td>\n",
       "    </tr>\n",
       "  </tbody>\n",
       "</table>\n",
       "</div>"
      ],
      "text/plain": [
       "   tahun motor  harga beli  kondisi  harga jual\n",
       "0         2014    12225000     89.5    13275000"
      ]
     },
     "execution_count": 6,
     "metadata": {},
     "output_type": "execute_result"
    }
   ],
   "source": [
    "meanValueVariable = pd.DataFrame(\n",
    "    {\n",
    "        \"tahun motor\": [2014],\n",
    "        \"harga beli\": [12225000],\n",
    "        \"kondisi\": [89.5],\n",
    "        \"harga jual\": [13275000],\n",
    "    }\n",
    ")\n",
    "meanValueVariable"
   ]
  },
  {
   "cell_type": "code",
   "execution_count": 7,
   "metadata": {},
   "outputs": [],
   "source": [
    "def linearNaik(x, a, b):\n",
    "    print(\" naik\")\n",
    "    if x <= a:\n",
    "        return 0\n",
    "    elif a < x < b:\n",
    "        return (x - a) / (b - a)\n",
    "    else:\n",
    "        return 1"
   ]
  },
  {
   "cell_type": "code",
   "execution_count": 8,
   "metadata": {},
   "outputs": [],
   "source": [
    "def linearTurun(x, a, b):\n",
    "    print(\" turun\")\n",
    "    if x <= a:\n",
    "        return 1\n",
    "    elif a <= x <= b:\n",
    "        return (b - x) / (b - a)\n",
    "    else:\n",
    "        return 0"
   ]
  },
  {
   "cell_type": "code",
   "execution_count": 9,
   "metadata": {},
   "outputs": [],
   "source": [
    "def linearSegitiga(x, a, b, label):\n",
    "    mid = meanValueVariable[label].iloc[0]\n",
    "    if a <= x <= mid:\n",
    "        return linearNaik(x, a, mid)\n",
    "    elif b >= x >= mid:\n",
    "        return linearTurun(x, mid, b)\n",
    "    else:\n",
    "        return 0"
   ]
  },
  {
   "cell_type": "code",
   "execution_count": 10,
   "metadata": {},
   "outputs": [],
   "source": [
    "def agregasi_naik(alfa, a, b):\n",
    "    print(\" agre naik\")\n",
    "    return alfa * (b - a) + a"
   ]
  },
  {
   "cell_type": "code",
   "execution_count": 11,
   "metadata": {},
   "outputs": [],
   "source": [
    "def agregasi_turun(alfa, a, b):\n",
    "    print(\" agre turun\")\n",
    "    return b - (alfa * (b - a))"
   ]
  },
  {
   "cell_type": "code",
   "execution_count": 12,
   "metadata": {},
   "outputs": [],
   "source": [
    "# sample_data = dataset.sample(n=1)\n",
    "# sample_rules = rules.sample(n=1)\n",
    "sample_data = dataset.iloc[0].to_frame().T\n",
    "sample_rules = rules.iloc[0:27]\n",
    "sample_rules = sample_rules.drop(columns=[\"aturan\"])"
   ]
  },
  {
   "cell_type": "code",
   "execution_count": 13,
   "metadata": {},
   "outputs": [],
   "source": [
    "def kategoriTurun(par):\n",
    "    return par == \"Lama\" or par == \"Murah\" or par == \"Jelek\""
   ]
  },
  {
   "cell_type": "code",
   "execution_count": 14,
   "metadata": {},
   "outputs": [],
   "source": [
    "def kategoriSegiTiga(par):\n",
    "    return (\n",
    "        par == \"Agak Lama\" or par == \"Normal\" or par == \"Sedang\" or par == \"Agak Mahal\"\n",
    "    )"
   ]
  },
  {
   "cell_type": "code",
   "execution_count": 15,
   "metadata": {},
   "outputs": [],
   "source": [
    "def kategoriNaik(par):\n",
    "    return par == \"Baru\" or par == \"Mahal\" or par == \"Bagus\""
   ]
  },
  {
   "cell_type": "code",
   "execution_count": 16,
   "metadata": {},
   "outputs": [],
   "source": [
    "def isHargaJual(par):\n",
    "    return par == \"harga jual\""
   ]
  },
  {
   "cell_type": "code",
   "execution_count": 17,
   "metadata": {},
   "outputs": [],
   "source": [
    "def defuzifikasi(r, z):\n",
    "    lenArr = len(r)\n",
    "    if len(r) != len(z):\n",
    "        return\n",
    "\n",
    "    result = 0\n",
    "    for i in range(lenArr):\n",
    "        product = r[i] * z[i]\n",
    "        result += product\n",
    "\n",
    "    return result / sum(r)"
   ]
  },
  {
   "cell_type": "code",
   "execution_count": 22,
   "metadata": {},
   "outputs": [
    {
     "name": "stdout",
     "output_type": "stream",
     "text": [
      "Lama turun\n",
      "[0]\n",
      "Murah turun\n",
      "[0, 0]\n",
      "Jelek turun\n",
      "[0, 0, 0]\n",
      "Murah agre turun\n",
      "13275000\n",
      "nilai min rules baris ke-1 = 0 dengan nilai z 13275000\n",
      "Lama turun\n",
      "[0]\n",
      "Murah turun\n",
      "[0, 0]\n",
      "Sedang turun\n",
      "[0, 0, 0.9473684210526315]\n",
      "Murah agre turun\n",
      "13275000\n",
      "nilai min rules baris ke-2 = 0 dengan nilai z 13275000\n",
      "Lama turun\n",
      "[0]\n",
      "Murah turun\n",
      "[0, 0]\n",
      "Bagus naik\n",
      "[0, 0, 0.05263157894736842]\n",
      "Murah agre turun\n",
      "13275000\n",
      "nilai min rules baris ke-3 = 0 dengan nilai z 13275000\n",
      "Lama turun\n",
      "[0]\n",
      "Normal turun\n",
      "[0, 0.7437185929648241]\n",
      "Jelek turun\n",
      "[0, 0.7437185929648241, 0]\n",
      "Agak Mahal agre turun\n",
      "nilai min rules baris ke-4 = 0 dengan nilai z 18250000\n",
      "Lama turun\n",
      "[0]\n",
      "Normal turun\n",
      "[0, 0.7437185929648241]\n",
      "Sedang turun\n",
      "[0, 0.7437185929648241, 0.9473684210526315]\n",
      "Agak Mahal agre turun\n",
      "nilai min rules baris ke-5 = 0 dengan nilai z 18250000\n",
      "Lama turun\n",
      "[0]\n",
      "Normal turun\n",
      "[0, 0.7437185929648241]\n",
      "Bagus naik\n",
      "[0, 0.7437185929648241, 0.05263157894736842]\n",
      "Agak Mahal agre turun\n",
      "nilai min rules baris ke-6 = 0 dengan nilai z 18250000\n",
      "Lama turun\n",
      "[0]\n",
      "Mahal naik\n",
      "[0, 0.2562814070351759]\n",
      "Jelek turun\n",
      "[0, 0.2562814070351759, 0]\n",
      "Agak Mahal agre turun\n",
      "nilai min rules baris ke-7 = 0 dengan nilai z 18250000\n",
      "Lama turun\n",
      "[0]\n",
      "Mahal naik\n",
      "[0, 0.2562814070351759]\n",
      "Sedang turun\n",
      "[0, 0.2562814070351759, 0.9473684210526315]\n",
      "Mahal agre naik\n",
      "nilai min rules baris ke-8 = 0 dengan nilai z 13275000\n",
      "Lama turun\n",
      "[0]\n",
      "Mahal naik\n",
      "[0, 0.2562814070351759]\n",
      "Bagus naik\n",
      "[0, 0.2562814070351759, 0.05263157894736842]\n",
      "Mahal agre naik\n",
      "nilai min rules baris ke-9 = 0 dengan nilai z 13275000\n",
      "Agak Lama turun\n",
      "[0.75]\n",
      "Murah turun\n",
      "[0.75, 0]\n",
      "Jelek turun\n",
      "[0.75, 0, 0]\n",
      "Murah agre turun\n",
      "13275000\n",
      "nilai min rules baris ke-10 = 0 dengan nilai z 13275000\n",
      "Agak Lama turun\n",
      "[0.75]\n",
      "Murah turun\n",
      "[0.75, 0]\n",
      "Sedang turun\n",
      "[0.75, 0, 0.9473684210526315]\n",
      "Murah agre turun\n",
      "13275000\n",
      "nilai min rules baris ke-11 = 0 dengan nilai z 13275000\n",
      "Agak Lama turun\n",
      "[0.75]\n",
      "Murah turun\n",
      "[0.75, 0]\n",
      "Bagus naik\n",
      "[0.75, 0, 0.05263157894736842]\n",
      "Murah agre turun\n",
      "13275000\n",
      "nilai min rules baris ke-12 = 0 dengan nilai z 13275000\n",
      "Agak Lama turun\n",
      "[0.75]\n",
      "Normal turun\n",
      "[0.75, 0.7437185929648241]\n",
      "Jelek turun\n",
      "[0.75, 0.7437185929648241, 0]\n",
      "Agak Mahal agre turun\n",
      "nilai min rules baris ke-13 = 0 dengan nilai z 18250000\n",
      "Agak Lama turun\n",
      "[0.75]\n",
      "Normal turun\n",
      "[0.75, 0.7437185929648241]\n",
      "Sedang turun\n",
      "[0.75, 0.7437185929648241, 0.9473684210526315]\n",
      "Agak Mahal agre turun\n",
      "nilai min rules baris ke-14 = 0.744 dengan nilai z 14548600.0\n",
      "Agak Lama turun\n",
      "[0.75]\n",
      "Normal turun\n",
      "[0.75, 0.7437185929648241]\n",
      "Bagus naik\n",
      "[0.75, 0.7437185929648241, 0.05263157894736842]\n",
      "Agak Mahal agre turun\n",
      "nilai min rules baris ke-15 = 0.053 dengan nilai z 17986325.0\n",
      "Agak Lama turun\n",
      "[0.75]\n",
      "Mahal naik\n",
      "[0.75, 0.2562814070351759]\n",
      "Jelek turun\n",
      "[0.75, 0.2562814070351759, 0]\n",
      "Mahal agre naik\n",
      "nilai min rules baris ke-16 = 0 dengan nilai z 13275000\n",
      "Agak Lama turun\n",
      "[0.75]\n",
      "Mahal naik\n",
      "[0.75, 0.2562814070351759]\n",
      "Sedang turun\n",
      "[0.75, 0.2562814070351759, 0.9473684210526315]\n",
      "Mahal agre naik\n",
      "nilai min rules baris ke-17 = 0.256 dengan nilai z 14548600.0\n",
      "Agak Lama turun\n",
      "[0.75]\n",
      "Mahal naik\n",
      "[0.75, 0.2562814070351759]\n",
      "Bagus naik\n",
      "[0.75, 0.2562814070351759, 0.05263157894736842]\n",
      "Mahal agre naik\n",
      "nilai min rules baris ke-18 = 0.053 dengan nilai z 13538675.0\n",
      "Baru naik\n",
      "[0.25]\n",
      "Murah turun\n",
      "[0.25, 0]\n",
      "Jelek turun\n",
      "[0.25, 0, 0]\n",
      "Agak Mahal agre turun\n",
      "nilai min rules baris ke-19 = 0 dengan nilai z 18250000\n",
      "Baru naik\n",
      "[0.25]\n",
      "Murah turun\n",
      "[0.25, 0]\n",
      "Sedang turun\n",
      "[0.25, 0, 0.9473684210526315]\n",
      "Murah agre turun\n",
      "13275000\n",
      "nilai min rules baris ke-20 = 0 dengan nilai z 13275000\n",
      "Baru naik\n",
      "[0.25]\n",
      "Murah turun\n",
      "[0.25, 0]\n",
      "Bagus naik\n",
      "[0.25, 0, 0.05263157894736842]\n",
      "Mahal agre naik\n",
      "nilai min rules baris ke-21 = 0 dengan nilai z 13275000\n",
      "Baru naik\n",
      "[0.25]\n",
      "Normal turun\n",
      "[0.25, 0.7437185929648241]\n",
      "Jelek turun\n",
      "[0.25, 0.7437185929648241, 0]\n",
      "Agak Mahal agre turun\n",
      "nilai min rules baris ke-22 = 0 dengan nilai z 18250000\n",
      "Baru naik\n",
      "[0.25]\n",
      "Normal turun\n",
      "[0.25, 0.7437185929648241]\n",
      "Sedang turun\n",
      "[0.25, 0.7437185929648241, 0.9473684210526315]\n",
      "Agak Mahal agre turun\n",
      "nilai min rules baris ke-23 = 0.25 dengan nilai z 17006250.0\n",
      "Baru naik\n",
      "[0.25]\n",
      "Normal turun\n",
      "[0.25, 0.7437185929648241]\n",
      "Bagus naik\n",
      "[0.25, 0.7437185929648241, 0.05263157894736842]\n",
      "Agak Mahal agre turun\n",
      "nilai min rules baris ke-24 = 0.053 dengan nilai z 17986325.0\n",
      "Baru naik\n",
      "[0.25]\n",
      "Mahal naik\n",
      "[0.25, 0.2562814070351759]\n",
      "Jelek turun\n",
      "[0.25, 0.2562814070351759, 0]\n",
      "Agak Mahal agre turun\n",
      "nilai min rules baris ke-25 = 0 dengan nilai z 18250000\n",
      "Baru naik\n",
      "[0.25]\n",
      "Mahal naik\n",
      "[0.25, 0.2562814070351759]\n",
      "Sedang turun\n",
      "[0.25, 0.2562814070351759, 0.9473684210526315]\n",
      "Mahal agre naik\n",
      "nilai min rules baris ke-26 = 0.25 dengan nilai z 14518750.0\n",
      "Baru naik\n",
      "[0.25]\n",
      "Mahal naik\n",
      "[0.25, 0.2562814070351759]\n",
      "Bagus naik\n",
      "[0.25, 0.2562814070351759, 0.05263157894736842]\n",
      "Mahal agre naik\n",
      "nilai min rules baris ke-27 = 0.053 dengan nilai z 13538675.0\n",
      "hasil prediksi 15053446.26\n"
     ]
    }
   ],
   "source": [
    "result = []\n",
    "for i in range(sample_data.shape[0]):\n",
    "    r = []\n",
    "    z = []\n",
    "    for x in range(sample_rules.shape[0]):\n",
    "        varRules = []\n",
    "        for colName in sample_rules:\n",
    "            if kategoriTurun(sample_rules[colName].iloc[x]):\n",
    "                print(sample_rules[colName].iloc[x], end=\"\")\n",
    "                if isHargaJual(colName):\n",
    "                    minR = round(min(varRules), 3)\n",
    "                    agregasi = agregasi_turun(\n",
    "                        minR,\n",
    "                        minValueVariable[colName][0],\n",
    "                        meanValueVariable[colName][0],\n",
    "                    )\n",
    "                    z.append(agregasi)\n",
    "                    r.append(minR)\n",
    "                    print(agregasi)\n",
    "                    break\n",
    "                varRules.append(\n",
    "                    linearTurun(\n",
    "                        sample_data[colName].iloc[i],\n",
    "                        minValueVariable[colName].iloc[0],\n",
    "                        meanValueVariable[colName].iloc[0],\n",
    "                    )\n",
    "                )\n",
    "            elif kategoriSegiTiga(sample_rules[colName].iloc[x]):\n",
    "                print(sample_rules[colName].iloc[x], end=\"\")\n",
    "                if isHargaJual(colName):\n",
    "                    minR = round(min(varRules), 3)\n",
    "                    if sample_data[colName].iloc[i] > meanValueVariable[colName][0]:\n",
    "                        agregasi = agregasi_turun(\n",
    "                            minR,\n",
    "                            meanValueVariable[colName][0],\n",
    "                            maxValueVariable[colName][0],\n",
    "                        )\n",
    "                    elif sample_data[colName].iloc[i] < meanValueVariable[colName][0]:\n",
    "                        agregasi = agregasi_naik(\n",
    "                            minR,\n",
    "                            minValueVariable[colName][0],\n",
    "                            meanValueVariable[colName][0],\n",
    "                        )\n",
    "                    else:\n",
    "                        agregasi = meanValueVariable[colName][0]\n",
    "                    z.append(agregasi)\n",
    "                    r.append(minR)\n",
    "                    break\n",
    "                varRules.append(\n",
    "                    linearSegitiga(\n",
    "                        sample_data[colName].iloc[i],\n",
    "                        minValueVariable[colName].iloc[0],\n",
    "                        maxValueVariable[colName].iloc[0],\n",
    "                        colName,\n",
    "                    )\n",
    "                )\n",
    "            else:\n",
    "                print(sample_rules[colName].iloc[x], end=\"\")\n",
    "                if isHargaJual(colName):\n",
    "                    minR = round(min(varRules), 3)\n",
    "                    agregasi = agregasi_naik(\n",
    "                        minR,\n",
    "                        meanValueVariable[colName][0],\n",
    "                        maxValueVariable[colName][0],\n",
    "                    )\n",
    "                    r.append(minR)\n",
    "                    z.append(agregasi)\n",
    "                    break\n",
    "                varRules.append(\n",
    "                    linearNaik(\n",
    "                        sample_data[colName].iloc[i],\n",
    "                        meanValueVariable[colName].iloc[0],\n",
    "                        maxValueVariable[colName].iloc[0],\n",
    "                    )\n",
    "                )\n",
    "            print(varRules)\n",
    "        print(f\"nilai min rules baris ke-{x+1} = {r[x]} \", end=\"\")\n",
    "        print(f\"dengan nilai z {z[x]}\")\n",
    "\n",
    "    print(f\"hasil prediksi {round(defuzifikasi(r, z), 2)}\")"
   ]
  },
  {
   "cell_type": "code",
   "execution_count": 19,
   "metadata": {},
   "outputs": [
    {
     "name": "stdout",
     "output_type": "stream",
     "text": [
      " agre turun\n"
     ]
    },
    {
     "data": {
      "text/plain": [
       "17986325.0"
      ]
     },
     "execution_count": 19,
     "metadata": {},
     "output_type": "execute_result"
    }
   ],
   "source": [
    "agregasi_turun(\n",
    "    0.053,\n",
    "    meanValueVariable[\"harga jual\"][0],\n",
    "    maxValueVariable[\"harga jual\"][0],\n",
    ")"
   ]
  },
  {
   "cell_type": "code",
   "execution_count": 20,
   "metadata": {},
   "outputs": [],
   "source": [
    "a = [0, 0, 0, 0, 0]\n",
    "b = [13275000, 13275000, 13275000, 18250000, 18250000]"
   ]
  },
  {
   "cell_type": "code",
   "execution_count": 21,
   "metadata": {},
   "outputs": [
    {
     "ename": "SyntaxError",
     "evalue": "invalid syntax (<ipython-input-21-e0a270eac36b>, line 1)",
     "output_type": "error",
     "traceback": [
      "\u001b[1;36m  File \u001b[1;32m\"<ipython-input-21-e0a270eac36b>\"\u001b[1;36m, line \u001b[1;32m1\u001b[0m\n\u001b[1;33m    division by zero\u001b[0m\n\u001b[1;37m             ^\u001b[0m\n\u001b[1;31mSyntaxError\u001b[0m\u001b[1;31m:\u001b[0m invalid syntax\n"
     ]
    }
   ],
   "source": [
    "division by zero"
   ]
  }
 ],
 "metadata": {
  "kernelspec": {
   "display_name": "Python 3",
   "language": "python",
   "name": "python3"
  },
  "language_info": {
   "codemirror_mode": {
    "name": "ipython",
    "version": 3
   },
   "file_extension": ".py",
   "mimetype": "text/x-python",
   "name": "python",
   "nbconvert_exporter": "python",
   "pygments_lexer": "ipython3",
   "version": "3.9.5"
  },
  "orig_nbformat": 4
 },
 "nbformat": 4,
 "nbformat_minor": 2
}
